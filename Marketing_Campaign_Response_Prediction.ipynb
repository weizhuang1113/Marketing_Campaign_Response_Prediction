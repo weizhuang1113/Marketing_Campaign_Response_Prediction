{
 "cells": [
  {
   "cell_type": "markdown",
   "metadata": {},
   "source": [
    "# 客户营销响应预测"
   ]
  },
  {
   "cell_type": "markdown",
   "metadata": {},
   "source": [
    "## 背景"
   ]
  },
  {
   "cell_type": "markdown",
   "metadata": {},
   "source": [
    "某企业业务部门准备基于以往产品营销活动的经验,对现有的客户有选择性地进行营销活动。受制于营销活动预算的限制,业务部门希望能够通过以前类似的营销活动找出能够响应此次营销活动的客户名单和响应概率。能够在有限的成本控制中得到较高的客户响应率,以提高此次营销活动的效果。"
   ]
  },
  {
   "cell_type": "markdown",
   "metadata": {},
   "source": [
    "## 目的"
   ]
  },
  {
   "cell_type": "markdown",
   "metadata": {},
   "source": [
    "通过数据预测在下一次营销活动时，响应活动会员的具体名单和响应概率，以此来制定针对性的营销策略。"
   ]
  },
  {
   "cell_type": "markdown",
   "metadata": {},
   "source": [
    "## 数据"
   ]
  },
  {
   "cell_type": "markdown",
   "metadata": {},
   "source": [
    "- 训练数据:3999条\n",
    "- 测试数据:8843条\n",
    "\n",
    "字段名|字段含义|变量类型\n",
    ":-|:-|:-\n",
    "age|年龄|数值\t\n",
    "total_pageviews|总页面浏览数|数值\n",
    "edu|教育程度|分类[1,10]\t\n",
    "edu_ages|受教育年限|数值\n",
    "user_level|会员等级|分类[1,7]\n",
    "industry|用户行业|分类[1,15]\t\n",
    "value_level|用户价值|分类[1,6]\n",
    "act_level|用户活跃度|分类[1,5]\t\n",
    "sex|性别|分类[0,1] 1表示男性\t\n",
    "blue_money|历史蓝色优惠券使用金额|数值\n",
    "red_money|历史红色优惠券使用金额|数值\n",
    "work_hours|在线时长|数值\n",
    "region|地区|分类[1,41]\n",
    "response|是否响应|分类[0,1] 1表示响应"
   ]
  },
  {
   "cell_type": "markdown",
   "metadata": {},
   "source": [
    "## 1. 数据加载"
   ]
  },
  {
   "cell_type": "code",
   "execution_count": 1,
   "metadata": {
    "collapsed": true
   },
   "outputs": [],
   "source": [
    "import numpy as np  \n",
    "import pandas as pd  \n",
    "from sklearn.preprocessing import OneHotEncoder  \n",
    "from sklearn.model_selection import StratifiedKFold, cross_val_score \n",
    "from sklearn.feature_selection import SelectPercentile, f_classif  \n",
    "from sklearn.ensemble import AdaBoostClassifier  \n",
    "from sklearn.pipeline import Pipeline\n",
    "from sklearn.metrics import accuracy_score\n",
    "import warnings\n",
    "warnings.filterwarnings(\"ignore\")"
   ]
  },
  {
   "cell_type": "code",
   "execution_count": 2,
   "metadata": {
    "collapsed": true
   },
   "outputs": [],
   "source": [
    "train = pd.read_excel('order.xlsx', sheetname=0)  \n",
    "test = pd.read_excel('order.xlsx', sheetname=1)  "
   ]
  },
  {
   "cell_type": "code",
   "execution_count": 3,
   "metadata": {},
   "outputs": [
    {
     "data": {
      "text/html": [
       "<div>\n",
       "<style>\n",
       "    .dataframe thead tr:only-child th {\n",
       "        text-align: right;\n",
       "    }\n",
       "\n",
       "    .dataframe thead th {\n",
       "        text-align: left;\n",
       "    }\n",
       "\n",
       "    .dataframe tbody tr th {\n",
       "        vertical-align: top;\n",
       "    }\n",
       "</style>\n",
       "<table border=\"1\" class=\"dataframe\">\n",
       "  <thead>\n",
       "    <tr style=\"text-align: right;\">\n",
       "      <th></th>\n",
       "      <th>age</th>\n",
       "      <th>total_pageviews</th>\n",
       "      <th>edu</th>\n",
       "      <th>edu_ages</th>\n",
       "      <th>user_level</th>\n",
       "      <th>industry</th>\n",
       "      <th>value_level</th>\n",
       "      <th>act_level</th>\n",
       "      <th>sex</th>\n",
       "      <th>blue_money</th>\n",
       "      <th>red_money</th>\n",
       "      <th>work_hours</th>\n",
       "      <th>region</th>\n",
       "      <th>response</th>\n",
       "    </tr>\n",
       "  </thead>\n",
       "  <tbody>\n",
       "    <tr>\n",
       "      <th>0</th>\n",
       "      <td>39.0</td>\n",
       "      <td>77516.0</td>\n",
       "      <td>1.0</td>\n",
       "      <td>13.0</td>\n",
       "      <td>1.0</td>\n",
       "      <td>1.0</td>\n",
       "      <td>1</td>\n",
       "      <td>1.0</td>\n",
       "      <td>1.0</td>\n",
       "      <td>2174</td>\n",
       "      <td>0.0</td>\n",
       "      <td>40</td>\n",
       "      <td>1.0</td>\n",
       "      <td>0</td>\n",
       "    </tr>\n",
       "    <tr>\n",
       "      <th>1</th>\n",
       "      <td>50.0</td>\n",
       "      <td>83311.0</td>\n",
       "      <td>1.0</td>\n",
       "      <td>13.0</td>\n",
       "      <td>2.0</td>\n",
       "      <td>2.0</td>\n",
       "      <td>2</td>\n",
       "      <td>1.0</td>\n",
       "      <td>1.0</td>\n",
       "      <td>0</td>\n",
       "      <td>0.0</td>\n",
       "      <td>13</td>\n",
       "      <td>1.0</td>\n",
       "      <td>0</td>\n",
       "    </tr>\n",
       "    <tr>\n",
       "      <th>2</th>\n",
       "      <td>38.0</td>\n",
       "      <td>215646.0</td>\n",
       "      <td>2.0</td>\n",
       "      <td>9.0</td>\n",
       "      <td>3.0</td>\n",
       "      <td>3.0</td>\n",
       "      <td>1</td>\n",
       "      <td>1.0</td>\n",
       "      <td>1.0</td>\n",
       "      <td>0</td>\n",
       "      <td>0.0</td>\n",
       "      <td>40</td>\n",
       "      <td>1.0</td>\n",
       "      <td>0</td>\n",
       "    </tr>\n",
       "    <tr>\n",
       "      <th>3</th>\n",
       "      <td>53.0</td>\n",
       "      <td>234721.0</td>\n",
       "      <td>2.0</td>\n",
       "      <td>7.0</td>\n",
       "      <td>2.0</td>\n",
       "      <td>3.0</td>\n",
       "      <td>2</td>\n",
       "      <td>2.0</td>\n",
       "      <td>1.0</td>\n",
       "      <td>0</td>\n",
       "      <td>0.0</td>\n",
       "      <td>40</td>\n",
       "      <td>1.0</td>\n",
       "      <td>0</td>\n",
       "    </tr>\n",
       "    <tr>\n",
       "      <th>4</th>\n",
       "      <td>28.0</td>\n",
       "      <td>338409.0</td>\n",
       "      <td>1.0</td>\n",
       "      <td>13.0</td>\n",
       "      <td>2.0</td>\n",
       "      <td>4.0</td>\n",
       "      <td>3</td>\n",
       "      <td>2.0</td>\n",
       "      <td>0.0</td>\n",
       "      <td>0</td>\n",
       "      <td>0.0</td>\n",
       "      <td>40</td>\n",
       "      <td>2.0</td>\n",
       "      <td>0</td>\n",
       "    </tr>\n",
       "  </tbody>\n",
       "</table>\n",
       "</div>"
      ],
      "text/plain": [
       "    age  total_pageviews  edu  edu_ages  user_level  industry  value_level  \\\n",
       "0  39.0          77516.0  1.0      13.0         1.0       1.0            1   \n",
       "1  50.0          83311.0  1.0      13.0         2.0       2.0            2   \n",
       "2  38.0         215646.0  2.0       9.0         3.0       3.0            1   \n",
       "3  53.0         234721.0  2.0       7.0         2.0       3.0            2   \n",
       "4  28.0         338409.0  1.0      13.0         2.0       4.0            3   \n",
       "\n",
       "   act_level  sex  blue_money  red_money  work_hours  region  response  \n",
       "0        1.0  1.0        2174        0.0          40     1.0         0  \n",
       "1        1.0  1.0           0        0.0          13     1.0         0  \n",
       "2        1.0  1.0           0        0.0          40     1.0         0  \n",
       "3        2.0  1.0           0        0.0          40     1.0         0  \n",
       "4        2.0  0.0           0        0.0          40     2.0         0  "
      ]
     },
     "execution_count": 3,
     "metadata": {},
     "output_type": "execute_result"
    }
   ],
   "source": [
    "train.head()"
   ]
  },
  {
   "cell_type": "code",
   "execution_count": 4,
   "metadata": {},
   "outputs": [
    {
     "data": {
      "text/html": [
       "<div>\n",
       "<style>\n",
       "    .dataframe thead tr:only-child th {\n",
       "        text-align: right;\n",
       "    }\n",
       "\n",
       "    .dataframe thead th {\n",
       "        text-align: left;\n",
       "    }\n",
       "\n",
       "    .dataframe tbody tr th {\n",
       "        vertical-align: top;\n",
       "    }\n",
       "</style>\n",
       "<table border=\"1\" class=\"dataframe\">\n",
       "  <thead>\n",
       "    <tr style=\"text-align: right;\">\n",
       "      <th></th>\n",
       "      <th>age</th>\n",
       "      <th>total_pageviews</th>\n",
       "      <th>edu</th>\n",
       "      <th>edu_ages</th>\n",
       "      <th>user_level</th>\n",
       "      <th>industry</th>\n",
       "      <th>value_level</th>\n",
       "      <th>act_level</th>\n",
       "      <th>sex</th>\n",
       "      <th>blue_money</th>\n",
       "      <th>red_money</th>\n",
       "      <th>work_hours</th>\n",
       "      <th>region</th>\n",
       "      <th>response</th>\n",
       "    </tr>\n",
       "  </thead>\n",
       "  <tbody>\n",
       "    <tr>\n",
       "      <th>39994</th>\n",
       "      <td>24.0</td>\n",
       "      <td>194102.0</td>\n",
       "      <td>1.0</td>\n",
       "      <td>13.0</td>\n",
       "      <td>1.0</td>\n",
       "      <td>2.0</td>\n",
       "      <td>4</td>\n",
       "      <td>1.0</td>\n",
       "      <td>1.0</td>\n",
       "      <td>0</td>\n",
       "      <td>0.0</td>\n",
       "      <td>40</td>\n",
       "      <td>1.0</td>\n",
       "      <td>0</td>\n",
       "    </tr>\n",
       "    <tr>\n",
       "      <th>39995</th>\n",
       "      <td>35.0</td>\n",
       "      <td>295127.0</td>\n",
       "      <td>2.0</td>\n",
       "      <td>10.0</td>\n",
       "      <td>3.0</td>\n",
       "      <td>9.0</td>\n",
       "      <td>5</td>\n",
       "      <td>1.0</td>\n",
       "      <td>1.0</td>\n",
       "      <td>0</td>\n",
       "      <td>0.0</td>\n",
       "      <td>50</td>\n",
       "      <td>1.0</td>\n",
       "      <td>0</td>\n",
       "    </tr>\n",
       "    <tr>\n",
       "      <th>39996</th>\n",
       "      <td>60.0</td>\n",
       "      <td>102310.0</td>\n",
       "      <td>5.0</td>\n",
       "      <td>12.0</td>\n",
       "      <td>3.0</td>\n",
       "      <td>12.0</td>\n",
       "      <td>1</td>\n",
       "      <td>1.0</td>\n",
       "      <td>0.0</td>\n",
       "      <td>0</td>\n",
       "      <td>0.0</td>\n",
       "      <td>45</td>\n",
       "      <td>11.0</td>\n",
       "      <td>0</td>\n",
       "    </tr>\n",
       "    <tr>\n",
       "      <th>39997</th>\n",
       "      <td>48.0</td>\n",
       "      <td>240175.0</td>\n",
       "      <td>2.0</td>\n",
       "      <td>7.0</td>\n",
       "      <td>5.0</td>\n",
       "      <td>5.0</td>\n",
       "      <td>5</td>\n",
       "      <td>2.0</td>\n",
       "      <td>1.0</td>\n",
       "      <td>0</td>\n",
       "      <td>0.0</td>\n",
       "      <td>22</td>\n",
       "      <td>1.0</td>\n",
       "      <td>0</td>\n",
       "    </tr>\n",
       "    <tr>\n",
       "      <th>39998</th>\n",
       "      <td>41.0</td>\n",
       "      <td>145441.0</td>\n",
       "      <td>2.0</td>\n",
       "      <td>9.0</td>\n",
       "      <td>2.0</td>\n",
       "      <td>10.0</td>\n",
       "      <td>2</td>\n",
       "      <td>1.0</td>\n",
       "      <td>1.0</td>\n",
       "      <td>0</td>\n",
       "      <td>0.0</td>\n",
       "      <td>40</td>\n",
       "      <td>1.0</td>\n",
       "      <td>1</td>\n",
       "    </tr>\n",
       "  </tbody>\n",
       "</table>\n",
       "</div>"
      ],
      "text/plain": [
       "        age  total_pageviews  edu  edu_ages  user_level  industry  \\\n",
       "39994  24.0         194102.0  1.0      13.0         1.0       2.0   \n",
       "39995  35.0         295127.0  2.0      10.0         3.0       9.0   \n",
       "39996  60.0         102310.0  5.0      12.0         3.0      12.0   \n",
       "39997  48.0         240175.0  2.0       7.0         5.0       5.0   \n",
       "39998  41.0         145441.0  2.0       9.0         2.0      10.0   \n",
       "\n",
       "       value_level  act_level  sex  blue_money  red_money  work_hours  region  \\\n",
       "39994            4        1.0  1.0           0        0.0          40     1.0   \n",
       "39995            5        1.0  1.0           0        0.0          50     1.0   \n",
       "39996            1        1.0  0.0           0        0.0          45    11.0   \n",
       "39997            5        2.0  1.0           0        0.0          22     1.0   \n",
       "39998            2        1.0  1.0           0        0.0          40     1.0   \n",
       "\n",
       "       response  \n",
       "39994         0  \n",
       "39995         0  \n",
       "39996         0  \n",
       "39997         0  \n",
       "39998         1  "
      ]
     },
     "execution_count": 4,
     "metadata": {},
     "output_type": "execute_result"
    }
   ],
   "source": [
    "train.tail()"
   ]
  },
  {
   "cell_type": "code",
   "execution_count": 5,
   "metadata": {},
   "outputs": [
    {
     "name": "stdout",
     "output_type": "stream",
     "text": [
      "<class 'pandas.core.frame.DataFrame'>\n",
      "RangeIndex: 39999 entries, 0 to 39998\n",
      "Data columns (total 14 columns):\n",
      "age                39998 non-null float64\n",
      "total_pageviews    39998 non-null float64\n",
      "edu                39998 non-null float64\n",
      "edu_ages           39998 non-null float64\n",
      "user_level         39998 non-null float64\n",
      "industry           39997 non-null float64\n",
      "value_level        39999 non-null int64\n",
      "act_level          39998 non-null float64\n",
      "sex                39998 non-null float64\n",
      "blue_money         39999 non-null int64\n",
      "red_money          39998 non-null float64\n",
      "work_hours         39999 non-null int64\n",
      "region             39997 non-null float64\n",
      "response           39999 non-null int64\n",
      "dtypes: float64(10), int64(4)\n",
      "memory usage: 4.3 MB\n"
     ]
    }
   ],
   "source": [
    "train.info()"
   ]
  },
  {
   "cell_type": "code",
   "execution_count": 6,
   "metadata": {},
   "outputs": [
    {
     "name": "stdout",
     "output_type": "stream",
     "text": [
      "<class 'pandas.core.frame.DataFrame'>\n",
      "RangeIndex: 8843 entries, 0 to 8842\n",
      "Data columns (total 14 columns):\n",
      "age                8843 non-null int64\n",
      "total_pageviews    8843 non-null int64\n",
      "edu                8843 non-null int64\n",
      "edu_ages           8843 non-null int64\n",
      "user_level         8841 non-null float64\n",
      "industry           8841 non-null float64\n",
      "value_level        8843 non-null int64\n",
      "act_level          8843 non-null int64\n",
      "sex                8843 non-null int64\n",
      "blue_money         8843 non-null int64\n",
      "red_money          8843 non-null int64\n",
      "work_hours         8843 non-null int64\n",
      "region             8838 non-null float64\n",
      "final_response     8843 non-null int64\n",
      "dtypes: float64(3), int64(11)\n",
      "memory usage: 967.3 KB\n"
     ]
    }
   ],
   "source": [
    "test.info()"
   ]
  },
  {
   "cell_type": "code",
   "execution_count": 7,
   "metadata": {},
   "outputs": [
    {
     "data": {
      "text/html": [
       "<div>\n",
       "<style>\n",
       "    .dataframe thead tr:only-child th {\n",
       "        text-align: right;\n",
       "    }\n",
       "\n",
       "    .dataframe thead th {\n",
       "        text-align: left;\n",
       "    }\n",
       "\n",
       "    .dataframe tbody tr th {\n",
       "        vertical-align: top;\n",
       "    }\n",
       "</style>\n",
       "<table border=\"1\" class=\"dataframe\">\n",
       "  <thead>\n",
       "    <tr style=\"text-align: right;\">\n",
       "      <th></th>\n",
       "      <th>age</th>\n",
       "      <th>total_pageviews</th>\n",
       "      <th>edu</th>\n",
       "      <th>edu_ages</th>\n",
       "      <th>user_level</th>\n",
       "      <th>industry</th>\n",
       "      <th>value_level</th>\n",
       "      <th>act_level</th>\n",
       "      <th>sex</th>\n",
       "      <th>blue_money</th>\n",
       "      <th>red_money</th>\n",
       "      <th>work_hours</th>\n",
       "      <th>region</th>\n",
       "      <th>response</th>\n",
       "    </tr>\n",
       "  </thead>\n",
       "  <tbody>\n",
       "    <tr>\n",
       "      <th>count</th>\n",
       "      <td>39998.000000</td>\n",
       "      <td>3.999800e+04</td>\n",
       "      <td>39998.000000</td>\n",
       "      <td>39998.000000</td>\n",
       "      <td>39998.000000</td>\n",
       "      <td>39997.000000</td>\n",
       "      <td>39999.000000</td>\n",
       "      <td>39998.000000</td>\n",
       "      <td>39998.000000</td>\n",
       "      <td>39999.000000</td>\n",
       "      <td>39998.000000</td>\n",
       "      <td>39999.000000</td>\n",
       "      <td>39997.000000</td>\n",
       "      <td>39999.000000</td>\n",
       "    </tr>\n",
       "    <tr>\n",
       "      <th>mean</th>\n",
       "      <td>38.589654</td>\n",
       "      <td>1.895136e+05</td>\n",
       "      <td>2.511626</td>\n",
       "      <td>10.076754</td>\n",
       "      <td>2.087004</td>\n",
       "      <td>5.677126</td>\n",
       "      <td>2.546289</td>\n",
       "      <td>1.221036</td>\n",
       "      <td>0.668083</td>\n",
       "      <td>1089.142529</td>\n",
       "      <td>87.379394</td>\n",
       "      <td>40.442486</td>\n",
       "      <td>2.251519</td>\n",
       "      <td>0.239606</td>\n",
       "    </tr>\n",
       "    <tr>\n",
       "      <th>std</th>\n",
       "      <td>13.663490</td>\n",
       "      <td>1.053109e+05</td>\n",
       "      <td>1.638110</td>\n",
       "      <td>2.573384</td>\n",
       "      <td>1.260992</td>\n",
       "      <td>3.395948</td>\n",
       "      <td>1.443210</td>\n",
       "      <td>0.626618</td>\n",
       "      <td>0.470907</td>\n",
       "      <td>7491.275548</td>\n",
       "      <td>402.930350</td>\n",
       "      <td>12.376033</td>\n",
       "      <td>4.913482</td>\n",
       "      <td>0.426848</td>\n",
       "    </tr>\n",
       "    <tr>\n",
       "      <th>min</th>\n",
       "      <td>17.000000</td>\n",
       "      <td>1.228500e+04</td>\n",
       "      <td>1.000000</td>\n",
       "      <td>1.000000</td>\n",
       "      <td>1.000000</td>\n",
       "      <td>1.000000</td>\n",
       "      <td>1.000000</td>\n",
       "      <td>1.000000</td>\n",
       "      <td>0.000000</td>\n",
       "      <td>0.000000</td>\n",
       "      <td>0.000000</td>\n",
       "      <td>1.000000</td>\n",
       "      <td>1.000000</td>\n",
       "      <td>0.000000</td>\n",
       "    </tr>\n",
       "    <tr>\n",
       "      <th>25%</th>\n",
       "      <td>28.000000</td>\n",
       "      <td>1.175282e+05</td>\n",
       "      <td>2.000000</td>\n",
       "      <td>9.000000</td>\n",
       "      <td>1.000000</td>\n",
       "      <td>3.000000</td>\n",
       "      <td>1.000000</td>\n",
       "      <td>1.000000</td>\n",
       "      <td>0.000000</td>\n",
       "      <td>0.000000</td>\n",
       "      <td>0.000000</td>\n",
       "      <td>40.000000</td>\n",
       "      <td>1.000000</td>\n",
       "      <td>0.000000</td>\n",
       "    </tr>\n",
       "    <tr>\n",
       "      <th>50%</th>\n",
       "      <td>37.000000</td>\n",
       "      <td>1.783410e+05</td>\n",
       "      <td>2.000000</td>\n",
       "      <td>10.000000</td>\n",
       "      <td>2.000000</td>\n",
       "      <td>5.000000</td>\n",
       "      <td>2.000000</td>\n",
       "      <td>1.000000</td>\n",
       "      <td>1.000000</td>\n",
       "      <td>0.000000</td>\n",
       "      <td>0.000000</td>\n",
       "      <td>40.000000</td>\n",
       "      <td>1.000000</td>\n",
       "      <td>0.000000</td>\n",
       "    </tr>\n",
       "    <tr>\n",
       "      <th>75%</th>\n",
       "      <td>48.000000</td>\n",
       "      <td>2.372685e+05</td>\n",
       "      <td>2.000000</td>\n",
       "      <td>12.000000</td>\n",
       "      <td>2.000000</td>\n",
       "      <td>8.000000</td>\n",
       "      <td>4.000000</td>\n",
       "      <td>1.000000</td>\n",
       "      <td>1.000000</td>\n",
       "      <td>0.000000</td>\n",
       "      <td>0.000000</td>\n",
       "      <td>45.000000</td>\n",
       "      <td>1.000000</td>\n",
       "      <td>0.000000</td>\n",
       "    </tr>\n",
       "    <tr>\n",
       "      <th>max</th>\n",
       "      <td>90.000000</td>\n",
       "      <td>1.484705e+06</td>\n",
       "      <td>10.000000</td>\n",
       "      <td>16.000000</td>\n",
       "      <td>7.000000</td>\n",
       "      <td>15.000000</td>\n",
       "      <td>6.000000</td>\n",
       "      <td>5.000000</td>\n",
       "      <td>1.000000</td>\n",
       "      <td>99999.000000</td>\n",
       "      <td>4356.000000</td>\n",
       "      <td>99.000000</td>\n",
       "      <td>41.000000</td>\n",
       "      <td>1.000000</td>\n",
       "    </tr>\n",
       "  </tbody>\n",
       "</table>\n",
       "</div>"
      ],
      "text/plain": [
       "                age  total_pageviews           edu      edu_ages  \\\n",
       "count  39998.000000     3.999800e+04  39998.000000  39998.000000   \n",
       "mean      38.589654     1.895136e+05      2.511626     10.076754   \n",
       "std       13.663490     1.053109e+05      1.638110      2.573384   \n",
       "min       17.000000     1.228500e+04      1.000000      1.000000   \n",
       "25%       28.000000     1.175282e+05      2.000000      9.000000   \n",
       "50%       37.000000     1.783410e+05      2.000000     10.000000   \n",
       "75%       48.000000     2.372685e+05      2.000000     12.000000   \n",
       "max       90.000000     1.484705e+06     10.000000     16.000000   \n",
       "\n",
       "         user_level      industry   value_level     act_level           sex  \\\n",
       "count  39998.000000  39997.000000  39999.000000  39998.000000  39998.000000   \n",
       "mean       2.087004      5.677126      2.546289      1.221036      0.668083   \n",
       "std        1.260992      3.395948      1.443210      0.626618      0.470907   \n",
       "min        1.000000      1.000000      1.000000      1.000000      0.000000   \n",
       "25%        1.000000      3.000000      1.000000      1.000000      0.000000   \n",
       "50%        2.000000      5.000000      2.000000      1.000000      1.000000   \n",
       "75%        2.000000      8.000000      4.000000      1.000000      1.000000   \n",
       "max        7.000000     15.000000      6.000000      5.000000      1.000000   \n",
       "\n",
       "         blue_money     red_money    work_hours        region      response  \n",
       "count  39999.000000  39998.000000  39999.000000  39997.000000  39999.000000  \n",
       "mean    1089.142529     87.379394     40.442486      2.251519      0.239606  \n",
       "std     7491.275548    402.930350     12.376033      4.913482      0.426848  \n",
       "min        0.000000      0.000000      1.000000      1.000000      0.000000  \n",
       "25%        0.000000      0.000000     40.000000      1.000000      0.000000  \n",
       "50%        0.000000      0.000000     40.000000      1.000000      0.000000  \n",
       "75%        0.000000      0.000000     45.000000      1.000000      0.000000  \n",
       "max    99999.000000   4356.000000     99.000000     41.000000      1.000000  "
      ]
     },
     "execution_count": 7,
     "metadata": {},
     "output_type": "execute_result"
    }
   ],
   "source": [
    "train.describe()"
   ]
  },
  {
   "cell_type": "markdown",
   "metadata": {},
   "source": [
    "## 2. 数据预处理"
   ]
  },
  {
   "cell_type": "markdown",
   "metadata": {},
   "source": [
    "### 去重"
   ]
  },
  {
   "cell_type": "code",
   "execution_count": 9,
   "metadata": {
    "collapsed": true
   },
   "outputs": [],
   "source": [
    "train.drop_duplicates(inplace=True)"
   ]
  },
  {
   "cell_type": "markdown",
   "metadata": {},
   "source": [
    "### 缺失值处理"
   ]
  },
  {
   "cell_type": "code",
   "execution_count": 27,
   "metadata": {},
   "outputs": [
    {
     "data": {
      "text/plain": [
       "response           0\n",
       "region             0\n",
       "work_hours         0\n",
       "red_money          0\n",
       "blue_money         0\n",
       "sex                0\n",
       "act_level          0\n",
       "value_level        0\n",
       "industry           0\n",
       "user_level         0\n",
       "edu_ages           0\n",
       "edu                0\n",
       "total_pageviews    0\n",
       "age                0\n",
       "dtype: int64"
      ]
     },
     "execution_count": 27,
     "metadata": {},
     "output_type": "execute_result"
    }
   ],
   "source": [
    "train.isnull().sum().sort_values(ascending=False)"
   ]
  },
  {
   "cell_type": "code",
   "execution_count": 11,
   "metadata": {},
   "outputs": [
    {
     "data": {
      "text/plain": [
       "region             5\n",
       "industry           2\n",
       "user_level         2\n",
       "final_response     0\n",
       "work_hours         0\n",
       "red_money          0\n",
       "blue_money         0\n",
       "sex                0\n",
       "act_level          0\n",
       "value_level        0\n",
       "edu_ages           0\n",
       "edu                0\n",
       "total_pageviews    0\n",
       "age                0\n",
       "dtype: int64"
      ]
     },
     "execution_count": 11,
     "metadata": {},
     "output_type": "execute_result"
    }
   ],
   "source": [
    "test.isnull().sum().sort_values(ascending=False)"
   ]
  },
  {
   "cell_type": "code",
   "execution_count": 12,
   "metadata": {
    "collapsed": true
   },
   "outputs": [],
   "source": [
    "def na_replace(df):\n",
    "    na_rules = {'age': df['age'].mean(),\n",
    "                'total_pageviews': df['total_pageviews'].mean(),\n",
    "                'edu': df['edu'].median(),\n",
    "                'edu_ages': df['edu_ages'].median(),\n",
    "                'user_level': df['user_level'].median(),\n",
    "                'industry': df['user_level'].median(),\n",
    "                'act_level': df['act_level'].median(),\n",
    "                'sex': df['sex'].median(),\n",
    "                'red_money': df['red_money'].mean(),\n",
    "                'region': df['region'].median()\n",
    "                } \n",
    "    df = df.fillna(na_rules)\n",
    "    return df"
   ]
  },
  {
   "cell_type": "code",
   "execution_count": 13,
   "metadata": {
    "collapsed": true
   },
   "outputs": [],
   "source": [
    "train = na_replace(train)  \n",
    "test = na_replace(test)"
   ]
  },
  {
   "cell_type": "markdown",
   "metadata": {},
   "source": [
    "### 独热编码"
   ]
  },
  {
   "cell_type": "code",
   "execution_count": 14,
   "metadata": {
    "collapsed": true
   },
   "outputs": [],
   "source": [
    "def symbol_con(df, enc_object=None, train=True):\n",
    "    convert_cols = ['edu', 'user_level', 'industry', 'value_level', 'act_level', 'sex', 'region'] \n",
    "    df_con = df[convert_cols]  \n",
    "    df_org = df[['age', 'total_pageviews', 'edu_ages', 'blue_money', 'red_money', 'work_hours']].values  \n",
    "    if train == True: \n",
    "        enc = OneHotEncoder() \n",
    "        enc.fit(df_con)  \n",
    "        df_con_new = enc.transform(df_con).toarray()  \n",
    "        new_matrix = np.hstack((df_con_new, df_org))  \n",
    "        return new_matrix, enc\n",
    "    else:\n",
    "        df_con_new = enc_object.transform(df_con).toarray()  \n",
    "        new_matrix = np.hstack((df_con_new, df_org))\n",
    "        return new_matrix\n"
   ]
  },
  {
   "cell_type": "code",
   "execution_count": 15,
   "metadata": {
    "collapsed": true
   },
   "outputs": [],
   "source": [
    "X_train, enc = symbol_con(train, enc_object=None, train=True) \n",
    "y_train = train['response']"
   ]
  },
  {
   "cell_type": "code",
   "execution_count": 16,
   "metadata": {
    "collapsed": true
   },
   "outputs": [],
   "source": [
    "X_test = symbol_con(test, enc_object=enc, train=False)\n",
    "y_test = test['final_response']"
   ]
  },
  {
   "cell_type": "markdown",
   "metadata": {},
   "source": [
    "## 3. 建模"
   ]
  },
  {
   "cell_type": "markdown",
   "metadata": {},
   "source": [
    "### 参数优化选择"
   ]
  },
  {
   "cell_type": "code",
   "execution_count": 17,
   "metadata": {
    "collapsed": true
   },
   "outputs": [],
   "source": [
    "transform = SelectPercentile(f_classif, percentile=50)  "
   ]
  },
  {
   "cell_type": "code",
   "execution_count": 18,
   "metadata": {
    "collapsed": true
   },
   "outputs": [],
   "source": [
    "model_adaboost = AdaBoostClassifier() "
   ]
  },
  {
   "cell_type": "code",
   "execution_count": 19,
   "metadata": {},
   "outputs": [
    {
     "name": "stdout",
     "output_type": "stream",
     "text": [
      "[mean: 0.85406, std: 0.00282, params: {'model_adaboost__learning_rate': 0.5, 'model_adaboost__n_estimators': 20}, mean: 0.85834, std: 0.00353, params: {'model_adaboost__learning_rate': 0.5, 'model_adaboost__n_estimators': 50}, mean: 0.86090, std: 0.00346, params: {'model_adaboost__learning_rate': 0.5, 'model_adaboost__n_estimators': 100}, mean: 0.85369, std: 0.00463, params: {'model_adaboost__learning_rate': 1, 'model_adaboost__n_estimators': 20}, mean: 0.85982, std: 0.00404, params: {'model_adaboost__learning_rate': 1, 'model_adaboost__n_estimators': 50}, mean: 0.86335, std: 0.00406, params: {'model_adaboost__learning_rate': 1, 'model_adaboost__n_estimators': 100}]\n",
      "------------------------------\n",
      "{'model_adaboost__learning_rate': 1, 'model_adaboost__n_estimators': 100} 0.863349684653\n"
     ]
    }
   ],
   "source": [
    "from sklearn.model_selection import GridSearchCV, cross_val_score, StratifiedKFold, learning_curve\n",
    "pipe=Pipeline([('select',transform), \n",
    "               ('model_adaboost', model_adaboost)])\n",
    "\n",
    "param_test = {'model_adaboost__n_estimators':[20,50,100], \n",
    "              'model_adaboost__learning_rate':[0.5,1]\n",
    "             }\n",
    "gsearch = GridSearchCV(estimator = pipe, param_grid = param_test, scoring='accuracy', cv=5)\n",
    "gsearch.fit(X_train,y_train)\n",
    "\n",
    "print(gsearch.grid_scores_)\n",
    "print('-'*30)\n",
    "print(gsearch.best_params_, gsearch.best_score_)"
   ]
  },
  {
   "cell_type": "code",
   "execution_count": 20,
   "metadata": {},
   "outputs": [
    {
     "data": {
      "text/plain": [
       "AdaBoostClassifier(algorithm='SAMME.R', base_estimator=None,\n",
       "          learning_rate=1.0, n_estimators=100, random_state=None)"
      ]
     },
     "execution_count": 20,
     "metadata": {},
     "output_type": "execute_result"
    }
   ],
   "source": [
    "transform.fit(X_train, y_train)\n",
    "reduce_X_train = transform.transform(X_train)\n",
    "final_model = AdaBoostClassifier(n_estimators=100)  \n",
    "final_model.fit(reduce_X_train, y_train)"
   ]
  },
  {
   "cell_type": "markdown",
   "metadata": {},
   "source": [
    "### 预测"
   ]
  },
  {
   "cell_type": "code",
   "execution_count": 21,
   "metadata": {
    "collapsed": true
   },
   "outputs": [],
   "source": [
    "reduce_X_test = transform.transform(X_test)  "
   ]
  },
  {
   "cell_type": "code",
   "execution_count": 23,
   "metadata": {
    "collapsed": true
   },
   "outputs": [],
   "source": [
    "data = test.drop('final_response', axis=1) \n",
    "predict_labels = pd.DataFrame(final_model.predict(reduce_X_test), columns=['labels'])  \n",
    "predict_proba = pd.DataFrame(final_model.predict_proba(reduce_X_test), columns=['noproba', 'yesproba']) \n",
    "predict_pd = pd.concat((data, predict_labels, predict_proba), axis=1) "
   ]
  },
  {
   "cell_type": "code",
   "execution_count": 25,
   "metadata": {},
   "outputs": [
    {
     "name": "stdout",
     "output_type": "stream",
     "text": [
      "final accuracy: 0.862150853782653\n"
     ]
    }
   ],
   "source": [
    "accuracy_score(y_test, predict_labels)"
   ]
  },
  {
   "cell_type": "code",
   "execution_count": 24,
   "metadata": {
    "collapsed": true
   },
   "outputs": [],
   "source": [
    "predict_pd.to_excel('order_predict_result.xlsx', 'Sheet1') "
   ]
  },
  {
   "cell_type": "markdown",
   "metadata": {
    "collapsed": true
   },
   "source": [
    "## 总结与思考"
   ]
  },
  {
   "cell_type": "markdown",
   "metadata": {},
   "source": [
    "### 模型实施"
   ]
  },
  {
   "cell_type": "markdown",
   "metadata": {},
   "source": [
    "- 制定了营销响应率不低于80%的KPI作为本次营销活动的绩效考核目标。\n",
    "- 结合历史销售订单数据计算本次活动的预期收益，制定ROI目标。\n",
    "- 基于预期的订单金额和订单数量，以及关联的用券数量和金额，申请对应的营销资源用于促销用户购买转化。"
   ]
  },
  {
   "cell_type": "code",
   "execution_count": null,
   "metadata": {
    "collapsed": true
   },
   "outputs": [],
   "source": []
  }
 ],
 "metadata": {
  "kernelspec": {
   "display_name": "Python 3",
   "language": "python",
   "name": "python3"
  },
  "language_info": {
   "codemirror_mode": {
    "name": "ipython",
    "version": 3
   },
   "file_extension": ".py",
   "mimetype": "text/x-python",
   "name": "python",
   "nbconvert_exporter": "python",
   "pygments_lexer": "ipython3",
   "version": "3.6.2"
  },
  "toc": {
   "base_numbering": 1,
   "nav_menu": {},
   "number_sections": false,
   "sideBar": true,
   "skip_h1_title": false,
   "title_cell": "Table of Contents",
   "title_sidebar": "Contents",
   "toc_cell": false,
   "toc_position": {
    "height": "calc(100% - 180px)",
    "left": "10px",
    "top": "150px",
    "width": "165px"
   },
   "toc_section_display": true,
   "toc_window_display": true
  }
 },
 "nbformat": 4,
 "nbformat_minor": 2
}
